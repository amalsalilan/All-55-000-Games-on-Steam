{
 "cells": [
  {
   "cell_type": "code",
   "execution_count": 2,
   "id": "a6e54f56",
   "metadata": {},
   "outputs": [],
   "source": [
    "import pandas as pd\n",
    "import numpy as np"
   ]
  },
  {
   "cell_type": "code",
   "execution_count": 20,
   "id": "b2846229",
   "metadata": {
    "scrolled": true
   },
   "outputs": [],
   "source": [
    "df = pd.read_csv('/home/amal/Amal/DATASET/steam_games.csv',delimiter=\";\",low_memory=False)"
   ]
  },
  {
   "cell_type": "code",
   "execution_count": 23,
   "id": "8c4e4206",
   "metadata": {},
   "outputs": [
    {
     "data": {
      "text/plain": [
       "App ID                   0\n",
       "Name                     0\n",
       "Short Description       37\n",
       "Developer              129\n",
       "Publisher              151\n",
       "Genre                  161\n",
       "Tags                   135\n",
       "Type                     0\n",
       "Categories             970\n",
       "Owners                   0\n",
       "Positive Reviews         0\n",
       "Negative Reviews         0\n",
       "Price                    0\n",
       "Initial Price            0\n",
       "Discount                 0\n",
       "CCU                      0\n",
       "Languages               11\n",
       "Platforms                0\n",
       "Release Date            99\n",
       "Required Age             0\n",
       "Website              25217\n",
       "Header Image             0\n",
       "dtype: int64"
      ]
     },
     "execution_count": 23,
     "metadata": {},
     "output_type": "execute_result"
    }
   ],
   "source": [
    "df.isnull().sum()"
   ]
  },
  {
   "cell_type": "code",
   "execution_count": null,
   "id": "7fe1c488",
   "metadata": {},
   "outputs": [],
   "source": []
  },
  {
   "cell_type": "code",
   "execution_count": null,
   "id": "91c8c8b7",
   "metadata": {},
   "outputs": [],
   "source": []
  }
 ],
 "metadata": {
  "kernelspec": {
   "display_name": "Python 3 (ipykernel)",
   "language": "python",
   "name": "python3"
  },
  "language_info": {
   "codemirror_mode": {
    "name": "ipython",
    "version": 3
   },
   "file_extension": ".py",
   "mimetype": "text/x-python",
   "name": "python",
   "nbconvert_exporter": "python",
   "pygments_lexer": "ipython3",
   "version": "3.9.12"
  }
 },
 "nbformat": 4,
 "nbformat_minor": 5
}
